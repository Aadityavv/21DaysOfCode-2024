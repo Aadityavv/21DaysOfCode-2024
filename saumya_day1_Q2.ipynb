{
  "nbformat": 4,
  "nbformat_minor": 0,
  "metadata": {
    "colab": {
      "provenance": [],
      "authorship_tag": "ABX9TyMU1ImIajTmKnbZyoQfmWd+",
      "include_colab_link": true
    },
    "kernelspec": {
      "name": "python3",
      "display_name": "Python 3"
    },
    "language_info": {
      "name": "python"
    }
  },
  "cells": [
    {
      "cell_type": "markdown",
      "metadata": {
        "id": "view-in-github",
        "colab_type": "text"
      },
      "source": [
        "<a href=\"https://colab.research.google.com/github/saumyasaini11/21DaysOfCode-2024/blob/main/saumya_day1_Q2.ipynb\" target=\"_parent\"><img src=\"https://colab.research.google.com/assets/colab-badge.svg\" alt=\"Open In Colab\"/></a>"
      ]
    },
    {
      "cell_type": "code",
      "execution_count": 2,
      "metadata": {
        "colab": {
          "base_uri": "https://localhost:8080/"
        },
        "id": "z9eYBDjKp2cp",
        "outputId": "8cb13a0d-2075-4d16-fe73-b3a869745a12"
      },
      "outputs": [
        {
          "output_type": "stream",
          "name": "stdout",
          "text": [
            "4\n"
          ]
        }
      ],
      "source": [
        "arr = [1, 2, 3, 4, 5]\n",
        "k = 3\n",
        "\n",
        "def count_pairs_divisible_by_k(arr, k):\n",
        "    remainder_count = [0] * k\n",
        "    for num in arr:\n",
        "        remainder = num % k\n",
        "        remainder_count[remainder] += 1\n",
        "\n",
        "    count = 0\n",
        "    count += (remainder_count[0] * (remainder_count[0] - 1)) // 2\n",
        "    for i in range(1, (k // 2) + 1):\n",
        "        if i != k - i:\n",
        "            count += remainder_count[i] * remainder_count[k - i]\n",
        "\n",
        "    # If k is even, count pairs with remainder k/2\n",
        "    if k % 2 == 0:\n",
        "        count += (remainder_count[k // 2] * (remainder_count[k // 2] - 1)) // 2\n",
        "\n",
        "    return count\n",
        "\n",
        "print(count_pairs_divisible_by_k(arr, k))\n",
        "#the output should be 4"
      ]
    }
  ]
}