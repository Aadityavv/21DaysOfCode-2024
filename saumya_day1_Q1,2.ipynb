{
  "nbformat": 4,
  "nbformat_minor": 0,
  "metadata": {
    "colab": {
      "provenance": [],
      "authorship_tag": "ABX9TyPq8/EccIj3FrwWOSH4Ayf8",
      "include_colab_link": true
    },
    "kernelspec": {
      "name": "python3",
      "display_name": "Python 3"
    },
    "language_info": {
      "name": "python"
    }
  },
  "cells": [
    {
      "cell_type": "markdown",
      "metadata": {
        "id": "view-in-github",
        "colab_type": "text"
      },
      "source": [
        "<a href=\"https://colab.research.google.com/github/saumyasaini11/21DaysOfCode-2024/blob/main/saumya_day1_Q1%2C2.ipynb\" target=\"_parent\"><img src=\"https://colab.research.google.com/assets/colab-badge.svg\" alt=\"Open In Colab\"/></a>"
      ]
    },
    {
      "cell_type": "code",
      "execution_count": 2,
      "metadata": {
        "colab": {
          "base_uri": "https://localhost:8080/"
        },
        "id": "z9eYBDjKp2cp",
        "outputId": "8cb13a0d-2075-4d16-fe73-b3a869745a12"
      },
      "outputs": [
        {
          "output_type": "stream",
          "name": "stdout",
          "text": [
            "4\n"
          ]
        }
      ],
      "source": [
        "#QUESTION 2\n",
        "\n",
        "arr = [1, 2, 3, 4, 5]\n",
        "k = 3\n",
        "\n",
        "def count_pairs_divisible_by_k(arr, k):\n",
        "    remainder_count = [0] * k\n",
        "    for num in arr:\n",
        "        remainder = num % k\n",
        "        remainder_count[remainder] += 1\n",
        "\n",
        "    count = 0\n",
        "    count += (remainder_count[0] * (remainder_count[0] - 1)) // 2\n",
        "    for i in range(1, (k // 2) + 1):\n",
        "        if i != k - i:\n",
        "            count += remainder_count[i] * remainder_count[k - i]\n",
        "\n",
        "    # If k is even, count pairs with remainder k/2\n",
        "    if k % 2 == 0:\n",
        "        count += (remainder_count[k // 2] * (remainder_count[k // 2] - 1)) // 2\n",
        "\n",
        "    return count\n",
        "\n",
        "print(count_pairs_divisible_by_k(arr, k))\n",
        "#the output should be 4"
      ]
    },
    {
      "cell_type": "code",
      "source": [
        "#QUESTION 1\n",
        "\n",
        "def find_segments(arr, m, d):\n",
        "    count = 0\n",
        "    n = len(arr)\n",
        "\n",
        "    # Iterate over all possible starting points of the segments\n",
        "    for i in range(n - m + 1):\n",
        "        # Sum the segment of length m starting at index i\n",
        "        if sum(arr[i:i + m]) == d:\n",
        "            count += 1\n",
        "\n",
        "    return count\n",
        "\n",
        "# Example usage:\n",
        "arr = [2, 2, 1, 3, 2]\n",
        "m = 2  # Raju's birthmonth\n",
        "d = 4  # Raju's birthday\n",
        "\n",
        "result = find_segments(arr, m, d)\n",
        "print(result)\n",
        "# Output should be 2"
      ],
      "metadata": {
        "id": "Ln-p8--5uqjd"
      },
      "execution_count": null,
      "outputs": []
    }
  ]
}